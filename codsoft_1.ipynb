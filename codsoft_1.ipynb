{
  "nbformat": 4,
  "nbformat_minor": 0,
  "metadata": {
    "colab": {
      "provenance": [],
      "authorship_tag": "ABX9TyNvSRDsnvbYXV+rAwrWjBwd",
      "include_colab_link": true
    },
    "kernelspec": {
      "name": "python3",
      "display_name": "Python 3"
    },
    "language_info": {
      "name": "python"
    }
  },
  "cells": [
    {
      "cell_type": "markdown",
      "metadata": {
        "id": "view-in-github",
        "colab_type": "text"
      },
      "source": [
        "<a href=\"https://colab.research.google.com/github/annmarry01234/Codsoft/blob/main/codsoft_1.ipynb\" target=\"_parent\"><img src=\"https://colab.research.google.com/assets/colab-badge.svg\" alt=\"Open In Colab\"/></a>"
      ]
    },
    {
      "cell_type": "code",
      "execution_count": null,
      "metadata": {
        "id": "oakEdrNqxIn0"
      },
      "outputs": [],
      "source": [
        "# to do list\n",
        "def main():\n",
        "  tasks = []\n",
        "  while True:\n",
        "    print(\"Select\\t1:ADD\\t2:VIEW\\t3:REMOVE\\t4:EXIT\")\n",
        "    choice = input()\n",
        "    if choice == '1':\n",
        "      c = input(\"Enter the task: \")\n",
        "      tasks.append(c)\n",
        "    elif choice == '2':\n",
        "      if len(tasks) == 0:\n",
        "        print(\"Empty\")\n",
        "      else:\n",
        "        for i , task in enumerate(tasks,1):\n",
        "          print(f\"{i}.{task}\")\n",
        "    elif choice == '3':\n",
        "      a = int(input(\"Enter the index value to be removed\"))\n",
        "      if a <=1 and len(tasks)>a-1:\n",
        "        tasks.pop(a)\n",
        "    elif choice =='4':\n",
        "      break\n",
        "\n",
        "\n",
        "\n",
        "main()"
      ]
    }
  ]
}