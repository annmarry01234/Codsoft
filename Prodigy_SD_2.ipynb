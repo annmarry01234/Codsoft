{
  "nbformat": 4,
  "nbformat_minor": 0,
  "metadata": {
    "colab": {
      "provenance": [],
      "authorship_tag": "ABX9TyPzaffMYzDt8RXrMPMtcH4T",
      "include_colab_link": true
    },
    "kernelspec": {
      "name": "python3",
      "display_name": "Python 3"
    },
    "language_info": {
      "name": "python"
    }
  },
  "cells": [
    {
      "cell_type": "markdown",
      "metadata": {
        "id": "view-in-github",
        "colab_type": "text"
      },
      "source": [
        "<a href=\"https://colab.research.google.com/github/annmarry01234/Codsoft/blob/main/Prodigy_SD_2.ipynb\" target=\"_parent\"><img src=\"https://colab.research.google.com/assets/colab-badge.svg\" alt=\"Open In Colab\"/></a>"
      ]
    },
    {
      "cell_type": "code",
      "execution_count": null,
      "metadata": {
        "colab": {
          "base_uri": "https://localhost:8080/"
        },
        "id": "n8bghtJTLy0k",
        "outputId": "243b2deb-6e1d-4a42-ac6c-6f73d4216798"
      },
      "outputs": [
        {
          "output_type": "stream",
          "name": "stdout",
          "text": [
            "7\n",
            "Enter the number of your guess: 1\n",
            "A little Higher!\n",
            "Enter the number of your guess: 9\n",
            "A little lower!\n",
            "Enter the number of your guess: 8\n",
            "A little lower!\n",
            "Enter the number of your guess: 5\n",
            "A little Higher!\n",
            "Enter the number of your guess: 6\n",
            "A little Higher!\n",
            "Enter the number of your guess: 7\n",
            "Hurray!\n",
            "You guessed in 5 attempts\n"
          ]
        }
      ],
      "source": [
        "\n",
        "import random\n",
        "a = random.randint(0,10)\n",
        "print(a)\n",
        "c = 0\n",
        "while True:\n",
        "  b = int(input(\"Enter the number of your guess: \"))\n",
        "  if b > a:\n",
        "    print(\"A little lower!\")\n",
        "    c = c +1\n",
        "  elif b < a:\n",
        "    print(\"A little Higher!\")\n",
        "    c = c + 1\n",
        "  elif b == a:\n",
        "    print(\"Hurray!\")\n",
        "    print(\"You guessed in\",c, \"attempts\")\n",
        "    break"
      ]
    }
  ]
}