{
  "nbformat": 4,
  "nbformat_minor": 0,
  "metadata": {
    "colab": {
      "provenance": [],
      "authorship_tag": "ABX9TyNcTYF/5uf8S5tNandhthl+",
      "include_colab_link": true
    },
    "kernelspec": {
      "name": "python3",
      "display_name": "Python 3"
    },
    "language_info": {
      "name": "python"
    }
  },
  "cells": [
    {
      "cell_type": "markdown",
      "metadata": {
        "id": "view-in-github",
        "colab_type": "text"
      },
      "source": [
        "<a href=\"https://colab.research.google.com/github/annmarry01234/Codsoft/blob/main/codsoft3.ipynb\" target=\"_parent\"><img src=\"https://colab.research.google.com/assets/colab-badge.svg\" alt=\"Open In Colab\"/></a>"
      ]
    },
    {
      "cell_type": "code",
      "execution_count": 1,
      "metadata": {
        "colab": {
          "base_uri": "https://localhost:8080/"
        },
        "id": "Xlg6QSw6x6zv",
        "outputId": "52de9444-6293-4324-c75e-95af23c07f52"
      },
      "outputs": [
        {
          "name": "stdout",
          "output_type": "stream",
          "text": [
            "Lets play a quiz game\n",
            "1.Whats the capital of India?\n",
            "a.New Delhi\tb.Kolkata\tc.Agra\n",
            "Select your optiona\n",
            "Congratulations...\n",
            "2.Whats the national bird of India?\n",
            "a.Tiger\tb.Parrot\tc.Peacock\n",
            "Select your optionb\n",
            "oho. Next question.\n",
            "3.Whats the equation of relativity?\n",
            "a.m=mv\tb.E = mc^2\tc.F = ma\n",
            "Select your optionc\n",
            "oho. Next question.\n",
            "4.How many oceans are there in the world?\n",
            "a.8\tb.3\tc.7\n",
            "Select your optiona\n",
            "oho. Next question.\n",
            "5.Who invented the electic bulb?\n",
            "a.Newton\tb.Einstein\tc.Edison\n",
            "Select your optionc\n",
            "Congratulations...\n",
            "Final score:  2\n",
            "should we play again?\n",
            "1 = Yes or 2 = No2\n"
          ]
        }
      ],
      "source": [
        "#quiz game\n",
        "print(\"Lets play a quiz game\")\n",
        "while True:\n",
        "  d=0\n",
        "  print(\"1.Whats the capital of India?\")\n",
        "  print(\"a.New Delhi\\tb.Kolkata\\tc.Agra\")\n",
        "  e = input(\"Select your option\")\n",
        "  if e == 'a':\n",
        "    print(\"Congratulations...\")\n",
        "    d = d+1\n",
        "  else :\n",
        "    print(\"oho. Next question.\")\n",
        "  print(\"2.Whats the national bird of India?\")\n",
        "  print(\"a.Tiger\\tb.Parrot\\tc.Peacock\")\n",
        "  e = input(\"Select your option\")\n",
        "  if e == 'c':\n",
        "    print(\"Congratulations...\")\n",
        "    d = d+1\n",
        "  else :\n",
        "    print(\"oho. Next question.\")\n",
        "  print(\"3.Whats the equation of relativity?\")\n",
        "  print(\"a.m=mv\\tb.E = mc^2\\tc.F = ma\")\n",
        "  e = input(\"Select your option\")\n",
        "  if e == 'b':\n",
        "    print(\"Congratulations...\")\n",
        "    d = d+1\n",
        "  else :\n",
        "    print(\"oho. Next question.\")\n",
        "  print(\"4.How many oceans are there in the world?\")\n",
        "  print(\"a.8\\tb.3\\tc.7\")\n",
        "  e = input(\"Select your option\")\n",
        "  if e == 'c':\n",
        "    print(\"Congratulations...\")\n",
        "    d = d+1\n",
        "  else :\n",
        "    print(\"oho. Next question.\")\n",
        "  print(\"5.Who invented the electic bulb?\")\n",
        "  print(\"a.Newton\\tb.Einstein\\tc.Edison\")\n",
        "  e = input(\"Select your option\")\n",
        "  if e == 'c':\n",
        "    print(\"Congratulations...\")\n",
        "    d = d+1\n",
        "  else :\n",
        "    print(\"oho. \")\n",
        "\n",
        "  print(\"Final score: \",d)\n",
        "  print(\"should we play again?\")\n",
        "  s = input(\"1 = Yes or 2 = No\")\n",
        "  if s =='2':\n",
        "    break\n"
      ]
    }
  ]
}