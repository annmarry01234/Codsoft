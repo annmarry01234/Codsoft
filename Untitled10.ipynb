{
  "nbformat": 4,
  "nbformat_minor": 0,
  "metadata": {
    "colab": {
      "provenance": [],
      "authorship_tag": "ABX9TyMPejwP6fmQt4yLFchx5tFu",
      "include_colab_link": true
    },
    "kernelspec": {
      "name": "python3",
      "display_name": "Python 3"
    },
    "language_info": {
      "name": "python"
    }
  },
  "cells": [
    {
      "cell_type": "markdown",
      "metadata": {
        "id": "view-in-github",
        "colab_type": "text"
      },
      "source": [
        "<a href=\"https://colab.research.google.com/github/annmarry01234/Codsoft/blob/main/Untitled10.ipynb\" target=\"_parent\"><img src=\"https://colab.research.google.com/assets/colab-badge.svg\" alt=\"Open In Colab\"/></a>"
      ]
    },
    {
      "cell_type": "code",
      "source": [
        "def main():\n",
        "  tasks = []\n",
        "  while True:\n",
        "    print(\"Select\\t1:ADD\\t2:VIEW\\t3:REMOVE\\t4:EXIT\")\n",
        "    choice = input()\n",
        "    if choice == '1':\n",
        "      c = input(\"Enter the task: \")\n",
        "      tasks.append(c)\n",
        "    elif choice == '2':\n",
        "      if len(tasks) == 0:\n",
        "        print(\"Empty\")\n",
        "      else:\n",
        "        for i , task in enumerate(tasks,1):\n",
        "          print(f\"{i}.{task}\")\n",
        "    elif choice == '3':\n",
        "      a = int(input(\"Enter the index value to be removed\"))\n",
        "      if a <=1 and len(tasks)>a-1:\n",
        "        tasks.pop(a)\n",
        "    elif choice =='4':\n",
        "      break\n",
        "\n",
        "\n",
        "\n",
        "main()"
      ],
      "metadata": {
        "colab": {
          "base_uri": "https://localhost:8080/"
        },
        "id": "xkuInBO8W599",
        "outputId": "ad1af625-c58b-4a93-8e7b-0d96ec19fb97"
      },
      "execution_count": 1,
      "outputs": [
        {
          "name": "stdout",
          "output_type": "stream",
          "text": [
            "Select\t1:ADD\t2:VIEW\t3:REMOVE\t4:EXIT\n",
            "1\n",
            "Enter the task: ewfwrg\n",
            "Select\t1:ADD\t2:VIEW\t3:REMOVE\t4:EXIT\n",
            "1\n",
            "Enter the task: tyred\n",
            "Select\t1:ADD\t2:VIEW\t3:REMOVE\t4:EXIT\n",
            "1\n",
            "Enter the task: nfgt\n",
            "Select\t1:ADD\t2:VIEW\t3:REMOVE\t4:EXIT\n",
            "2\n",
            "1.ewfwrg\n",
            "2.tyred\n",
            "3.nfgt\n",
            "Select\t1:ADD\t2:VIEW\t3:REMOVE\t4:EXIT\n",
            "3\n",
            "Enter the index value to be removed4\n",
            "Select\t1:ADD\t2:VIEW\t3:REMOVE\t4:EXIT\n",
            "4\n"
          ]
        }
      ]
    },
    {
      "cell_type": "code",
      "source": [
        "\n",
        "while True:\n",
        "  c = input(\"Enter the operation you need to perform or 1 to exit:\")\n",
        "  a = int(input(\"Enter the first number\"))\n",
        "  b  = int(input(\"Enter the second number\"))\n",
        "  if \"+\" in c:\n",
        "    d = a+b\n",
        "    print(d)\n",
        "  elif \"-\" in c:\n",
        "    d = a-b\n",
        "    print(d)\n",
        "  elif \"*\" in c:\n",
        "    d = a*b\n",
        "    d\n",
        "  elif \"/\" in c:\n",
        "    d = a/b\n",
        "    d\n",
        "  elif \"%\" in c:\n",
        "    d= a%b\n",
        "    d\n",
        "  elif c == '1':\n",
        "    break\n"
      ],
      "metadata": {
        "id": "G_YmKh2MLvRo",
        "colab": {
          "base_uri": "https://localhost:8080/"
        },
        "outputId": "895b1b44-e765-4a0e-da17-947223367f0a"
      },
      "execution_count": 3,
      "outputs": [
        {
          "name": "stdout",
          "output_type": "stream",
          "text": [
            "Enter the first number1\n",
            "Enter the second number1\n",
            "Enter the operation you need to perform or 1 to exit:+\n",
            "2\n",
            "Enter the first number2\n",
            "Enter the second number3\n",
            "Enter the operation you need to perform or 1 to exit:%\n",
            "Enter the first number1\n",
            "Enter the second number1\n",
            "Enter the operation you need to perform or 1 to exit:1\n"
          ]
        }
      ]
    },
    {
      "cell_type": "code",
      "source": [
        "#quiz game\n",
        "print(\"Lets play a quiz game\")\n",
        "while True:\n",
        "  d=0\n",
        "  print(\"1.Whats the capital of India?\")\n",
        "  print(\"a.New Delhi\\tb.Kolkata\\tc.Agra\")\n",
        "  e = input(\"Select your option\")\n",
        "  if e == 'a':\n",
        "    print(\"Congratulations...\")\n",
        "    d = d+1\n",
        "  else :\n",
        "    print(\"oho. Next question.\")\n",
        "  print(\"2.Whats the national bird of India?\")\n",
        "  print(\"a.Tiger\\tb.Parrot\\tc.Peacock\")\n",
        "  e = input(\"Select your option\")\n",
        "  if e == 'c':\n",
        "    print(\"Congratulations...\")\n",
        "    d = d+1\n",
        "  else :\n",
        "    print(\"oho. Next question.\")\n",
        "  print(\"3.Whats the equation of relativity?\")\n",
        "  print(\"a.m=mv\\tb.E = mc^2\\tc.F = ma\")\n",
        "  e = input(\"Select your option\")\n",
        "  if e == 'b':\n",
        "    print(\"Congratulations...\")\n",
        "    d = d+1\n",
        "  else :\n",
        "    print(\"oho. Next question.\")\n",
        "  print(\"4.How many oceans are there in the world?\")\n",
        "  print(\"a.8\\tb.3\\tc.7\")\n",
        "  e = input(\"Select your option\")\n",
        "  if e == 'c':\n",
        "    print(\"Congratulations...\")\n",
        "    d = d+1\n",
        "  else :\n",
        "    print(\"oho. Next question.\")\n",
        "  print(\"5.Who invented the electic bulb?\")\n",
        "  print(\"a.Newton\\tb.Einstein\\tc.Edison\")\n",
        "  e = input(\"Select your option\")\n",
        "  if e == 'c':\n",
        "    print(\"Congratulations...\")\n",
        "    d = d+1\n",
        "  else :\n",
        "    print(\"oho. \")\n",
        "\n",
        "  print(\"Final score: \",d)\n",
        "  print(\"should we play again?\")\n",
        "  s = input(\"1 = Yes or 2 = No\")\n",
        "  if s ==\n",
        "   '2':\n",
        "    break\n"
      ],
      "metadata": {
        "colab": {
          "base_uri": "https://localhost:8080/"
        },
        "id": "tc0J_66Nl_p_",
        "outputId": "eabdd0ef-0ff7-449e-9f1d-feb5d5727b5e"
      },
      "execution_count": 9,
      "outputs": [
        {
          "name": "stdout",
          "output_type": "stream",
          "text": [
            "Lets play a quiz game\n",
            "1.Whats the capital of India?\n",
            "a.New Delhi\tb.Kolkata\tc.Agra\n",
            "Select your option1\n",
            "oho. Next question.\n",
            "2.Whats the national bird of India?\n",
            "a.Tiger\tb.Parrot\tc.Peacock\n",
            "Select your optionw\n",
            "oho. Next question.\n",
            "3.Whats the equation of relativity?\n",
            "a.m=mv\tb.E = mc^2\tc.F = ma\n",
            "Select your optionf\n",
            "oho. Next question.\n",
            "4.How many oceans are there in the world?\n",
            "a.8\tb.3\tc.7\n",
            "Select your optiona\n",
            "oho. Next question.\n",
            "5.Who invented the electic bulb?\n",
            "a.Newton\tb.Einstein\tc.Edison\n",
            "Select your optiona\n",
            "oho. \n",
            "Final score:  0\n",
            "should we play again?\n",
            "1 = Yes or 2 = No2\n"
          ]
        }
      ]
    }
  ]
}