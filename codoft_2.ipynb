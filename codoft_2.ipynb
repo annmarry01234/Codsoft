{
  "nbformat": 4,
  "nbformat_minor": 0,
  "metadata": {
    "colab": {
      "provenance": [],
      "authorship_tag": "ABX9TyNkGupQ35SwNi3osnAYEJ0P",
      "include_colab_link": true
    },
    "kernelspec": {
      "name": "python3",
      "display_name": "Python 3"
    },
    "language_info": {
      "name": "python"
    }
  },
  "cells": [
    {
      "cell_type": "markdown",
      "metadata": {
        "id": "view-in-github",
        "colab_type": "text"
      },
      "source": [
        "<a href=\"https://colab.research.google.com/github/annmarry01234/Codsoft/blob/main/codoft_2.ipynb\" target=\"_parent\"><img src=\"https://colab.research.google.com/assets/colab-badge.svg\" alt=\"Open In Colab\"/></a>"
      ]
    },
    {
      "cell_type": "code",
      "execution_count": 2,
      "metadata": {
        "colab": {
          "base_uri": "https://localhost:8080/"
        },
        "id": "LLdT59nLxdeA",
        "outputId": "45449ddb-afb0-4207-b20e-bc3d48002895"
      },
      "outputs": [
        {
          "name": "stdout",
          "output_type": "stream",
          "text": [
            "Enter the first number2\n",
            "Enter the second number2\n",
            "Enter the operation you need to perform or 1 to exit:+\n",
            "4\n",
            "Enter the first number0\n",
            "Enter the second number0\n",
            "Enter the operation you need to perform or 1 to exit:1\n"
          ]
        }
      ],
      "source": [
        "#calculator\n",
        "while True:\n",
        "  a = int(input(\"Enter the first number\"))\n",
        "  b  = int(input(\"Enter the second number\"))\n",
        "  c = input(\"Enter the operation you need to perform or 1 to exit:\")\n",
        "  if \"+\" in c:\n",
        "    d = a+b\n",
        "    print(d)\n",
        "  elif \"-\" in c:\n",
        "    d = a-b\n",
        "    print(d)\n",
        "  elif \"*\" in c:\n",
        "    d = a*b\n",
        "    d\n",
        "  elif \"/\" in c:\n",
        "    d = a/b\n",
        "    d\n",
        "  elif \"%\" in c:\n",
        "    d= a%b\n",
        "    d\n",
        "  elif c == '1':\n",
        "    break\n"
      ]
    }
  ]
}